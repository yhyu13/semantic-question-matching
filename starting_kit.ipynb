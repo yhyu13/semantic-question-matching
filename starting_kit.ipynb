{
 "cells": [
  {
   "cell_type": "code",
   "execution_count": 1,
   "metadata": {
    "collapsed": true
   },
   "outputs": [],
   "source": [
    "%load_ext autoreload\n",
    "%autoreload 2 "
   ]
  },
  {
   "cell_type": "code",
   "execution_count": 2,
   "metadata": {
    "collapsed": true
   },
   "outputs": [],
   "source": [
    "import sys\n",
    "import os\n",
    "import pandas as pd\n",
    "import numpy as np\n",
    "from tqdm import tqdm"
   ]
  },
  {
   "cell_type": "code",
   "execution_count": 3,
   "metadata": {
    "collapsed": true
   },
   "outputs": [],
   "source": [
    "# load data\n",
    "df = pd.read_csv(\"data/quora/quora_duplicate_questions.tsv\", delimiter='\\t')\n",
    "df = df[['question1', 'question2', 'is_duplicate']]\n",
    "\n",
    "# split data\n",
    "df_true_duplicate = df[df['is_duplicate'] == 1]\n",
    "df_false_duplicate = df[df['is_duplicate'] == 0]\n",
    "# df_false_duplicate = df_false_duplicate[:len(df_true_duplicate)]  # balance dataset"
   ]
  },
  {
   "cell_type": "code",
   "execution_count": 4,
   "metadata": {
    "collapsed": true
   },
   "outputs": [],
   "source": [
    "#################\n",
    "# Preprocessing #\n",
    "#################\n",
    "\n",
    "import re\n",
    "import logging\n",
    "import nltk\n",
    "import string\n",
    "\n",
    "def clean_sent(sentence):\n",
    "    # nltk tokenizer\n",
    "    try:\n",
    "        words = nltk.tokenize.word_tokenize(sentence)\n",
    "    except:\n",
    "        return ' '\n",
    "    txt = ' '.join(l for l in words)\n",
    "    # remove punctuation (including dashes) and common words\n",
    "    punct = '!\"()*+,./:;<=>?@[\\]^_`{|}~'\n",
    "    for p in punct: txt = txt.replace(p, '')\n",
    "    # convert to lower case\n",
    "    txt = txt.lower()\n",
    "    # refit dashes (single words)\n",
    "    txt = re.sub(' - ', '-', txt)\n",
    "    # strip leading and trailing white space\n",
    "    txt = txt.strip()\n",
    "    # tokenize (split based on whitespace)\n",
    "    return txt\n",
    "\n",
    "# quora corpus\n",
    "corpus = [clean_sent(q).split() for q in df['question1']]\n",
    "for q in df['question2']: corpus.append(clean_sent(q).split())"
   ]
  },
  {
   "cell_type": "code",
   "execution_count": 5,
   "metadata": {},
   "outputs": [
    {
     "name": "stdout",
     "output_type": "stream",
     "text": [
      "[('the', 377379), ('what', 324199), ('is', 270864), ('i', 222219), ('how', 220523), ('a', 211122), ('to', 205460), ('in', 196496), ('do', 168951), ('of', 159795), ('are', 146406), ('and', 133235), ('can', 114665), ('for', 104432), ('you', 93054), ('why', 83979), ('it', 70997), ('my', 70912), ('best', 70471), ('on', 60517), ('does', 59297), ('or', 44007), ('be', 43931), ('which', 43903), ('if', 43754), ('some', 41674), ('have', 41304), ('that', 40696), ('with', 39721), ('get', 39513), ('should', 39448), (\"'s\", 39434), ('an', 36957), ('from', 35224), ('your', 33904), ('india', 29371), ('will', 28180), ('people', 26367), ('when', 26170), ('who', 26052), ('like', 25496), ('at', 25189), ('good', 24761), ('would', 23864), ('there', 23649), ('as', 22642), (\"n't\", 21412), ('about', 21140), ('not', 20964), ('between', 20286), ('one', 19773), ('did', 19486), ('most', 18918), ('we', 18515), (\"''\", 18377), ('quora', 18170), ('make', 18164), ('way', 18068), ('where', 17375), ('by', 17250), ('any', 16849), ('was', 16683), ('me', 16512), ('so', 15804), ('they', 15591), ('life', 15583), ('after', 15106), ('this', 14910), ('money', 14547), ('time', 14306), ('know', 13750), ('has', 13690), ('difference', 13379), ('learn', 13024), ('am', 12739), ('new', 12406), ('much', 12364), ('use', 12346), ('someone', 12010), ('their', 11775), ('think', 11497), ('many', 11453), ('all', 10996), ('indian', 10715), ('trump', 10670), ('us', 10641), ('than', 10626), ('ever', 10575), ('more', 10570), ('find', 10527), ('work', 10466), ('without', 10016), ('become', 9913), ('but', 9868), ('world', 9865), ('online', 9700), ('start', 9686), ('other', 9672), ('better', 9576), ('out', 9406)]\n",
      "astrology: 336 3.709548122941049e-05\n",
      "how: 220523 0.024346448830813362\n"
     ]
    }
   ],
   "source": [
    "######################\n",
    "# Corpora Statistics #\n",
    "######################\n",
    "\n",
    "from collections import defaultdict, Counter\n",
    "from sklearn.feature_extraction.text import CountVectorizer\n",
    "from sklearn.feature_extraction.text import TfidfTransformer\n",
    "from sklearn.decomposition import PCA\n",
    "from sklearn.metrics import euclidean_distances\n",
    "from sklearn.metrics.pairwise import cosine_similarity as cosine\n",
    "from sklearn.metrics.pairwise import euclidean_distances as euclidean_distances\n",
    "from sklearn.metrics.pairwise import manhattan_distances as manhattan_distances\n",
    "\n",
    "# get word probability distribution p(w)\n",
    "corpora = [w for sents in corpus for w in sents]\n",
    "fd_doc_words = nltk.FreqDist(corpora)\n",
    "total_freq = len(corpora)\n",
    "print(fd_doc_words.most_common(100))\n",
    "print('astrology:', fd_doc_words['astrology'], fd_doc_words['astrology'] / total_freq)\n",
    "print('how:', fd_doc_words['how'], fd_doc_words['how'] / total_freq)"
   ]
  },
  {
   "cell_type": "code",
   "execution_count": 6,
   "metadata": {},
   "outputs": [
    {
     "name": "stderr",
     "output_type": "stream",
     "text": [
      "Using TensorFlow backend.\n"
     ]
    }
   ],
   "source": [
    "###################\n",
    "# Word Embeddings # \n",
    "###################\n",
    "\n",
    "import gensim\n",
    "import matplotlib.pyplot as plt\n",
    "\n",
    "# logging.basicConfig(format='%(asctime)s : %(levelname)s : %(message)s', level=logging.INFO)\n",
    "# my_path = 'C:\\\\Users\\\\ASUS\\\\Documents\\\\Telecom\\\\PRIM\\\\code\\\\word_embeddings\\\\'\n",
    "my_path = \"word_embeddings/glove.6B/\"\n",
    "\n",
    "# quora corpus\n",
    "corpus = [clean_sent(q).split() for q in df['question1']]\n",
    "for q in df['question2']: corpus.append(clean_sent(q).split())\n",
    "\n",
    "# initialize W2V model\n",
    "my_model = gensim.models.word2vec.Word2Vec(size=300, min_count=2, sg=1)\n",
    "my_model.build_vocab(corpus)\n",
    "\n",
    "# update with Glove\n",
    "my_model.intersect_word2vec_format(my_path + \"glove.6B.300d_w2vformat.txt\", binary=False)\n",
    "\n",
    "# fine tune on quora corpus\n",
    "my_model.train(corpus, total_examples=my_model.corpus_count, epochs=my_model.iter)\n",
    "\n",
    "# trim memory\n",
    "my_model.init_sims(replace=True)"
   ]
  },
  {
   "cell_type": "code",
   "execution_count": 7,
   "metadata": {},
   "outputs": [
    {
     "name": "stderr",
     "output_type": "stream",
     "text": [
      "100%|██████████| 149263/149263 [03:14<00:00, 768.31it/s]\n",
      "  4%|▍         | 10507/255027 [00:18<07:08, 570.44it/s]"
     ]
    },
    {
     "name": "stdout",
     "output_type": "stream",
     "text": [
      "inf\n"
     ]
    },
    {
     "name": "stderr",
     "output_type": "stream",
     "text": [
      " 22%|██▏       | 54946/255027 [01:36<06:29, 513.29it/s]"
     ]
    },
    {
     "name": "stdout",
     "output_type": "stream",
     "text": [
      "inf\n"
     ]
    },
    {
     "name": "stderr",
     "output_type": "stream",
     "text": [
      "100%|██████████| 255027/255027 [07:30<00:00, 565.60it/s]\n"
     ]
    }
   ],
   "source": [
    "# Word Mover's Distance\n",
    "wmd_true = []\n",
    "for q1, q2 in zip(tqdm(df_true_duplicate['question1']), df_true_duplicate['question2']):\n",
    "    clean_q1 = clean_sent(q1).split()\n",
    "    clean_q2 = clean_sent(q2).split()\n",
    "    if len(clean_q1) > 1 and len(clean_q2) > 1:\n",
    "        d12 = my_model.wmdistance(clean_q1, clean_q2)\n",
    "        if d12 < 100:\n",
    "            wmd_true.append(d12)\n",
    "        else:\n",
    "            print(d12)\n",
    "\n",
    "wmd_false = []\n",
    "for q1, q2 in zip(tqdm(df_false_duplicate['question1']), df_false_duplicate['question2']):\n",
    "    clean_q1 = clean_sent(q1).split()\n",
    "    clean_q2 = clean_sent(q2).split()\n",
    "    if len(clean_q1) > 1 and len(clean_q2) > 1:\n",
    "        d12 = my_model.wmdistance(clean_q1, clean_q2)\n",
    "        if d12 < 100:\n",
    "            wmd_false.append(d12)\n",
    "        else:\n",
    "            print(d12)"
   ]
  },
  {
   "cell_type": "code",
   "execution_count": 11,
   "metadata": {},
   "outputs": [
    {
     "data": {
      "image/png": "[encoded data removed]",
      "text/plain": [
       "<matplotlib.figure.Figure at 0x7f2ae7cd0b38>"
      ]
     },
     "metadata": {},
     "output_type": "display_data"
    }
   ],
   "source": [
    "# Histogram\n",
    "plt.figure(figsize=(15, 10))\n",
    "n2, bins2, patches2 = plt.hist(wmd_false, 1000, facecolor='r', alpha=0.75)\n",
    "n1, bins1, patches1 = plt.hist(wmd_true, 1000, facecolor='b', alpha=0.75)\n",
    "plt.xlabel('WMD distance')\n",
    "plt.ylabel('Counts')\n",
    "plt.title('WMD analysis')\n",
    "plt.axis([0., 1.5, 0, 700])\n",
    "plt.grid(True)\n",
    "plt.legend([\"negative\", \"positive\"])\n",
    "plt.show()"
   ]
  }
 ],
 "metadata": {
  "kernelspec": {
   "display_name": "Python 3",
   "language": "python",
   "name": "python3"
  },
  "language_info": {
   "codemirror_mode": {
    "name": "ipython",
    "version": 3
   },
   "file_extension": ".py",
   "mimetype": "text/x-python",
   "name": "python",
   "nbconvert_exporter": "python",
   "pygments_lexer": "ipython3",
   "version": "3.6.1"
  }
 },
 "nbformat": 4,
 "nbformat_minor": 2
}
