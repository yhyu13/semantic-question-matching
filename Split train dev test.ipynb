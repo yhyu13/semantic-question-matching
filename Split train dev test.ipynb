{
 "cells": [
  {
   "cell_type": "code",
   "execution_count": 1,
   "metadata": {
    "collapsed": true
   },
   "outputs": [],
   "source": [
    "%load_ext autoreload\n",
    "%autoreload 2"
   ]
  },
  {
   "cell_type": "code",
   "execution_count": 2,
   "metadata": {},
   "outputs": [],
   "source": [
    "import pandas as pd\n",
    "import numpy as np"
   ]
  },
  {
   "cell_type": "code",
   "execution_count": 3,
   "metadata": {
    "collapsed": true
   },
   "outputs": [],
   "source": [
    "full_path = \"data/quora_duplicate_questions.tsv\"\n",
    "partition_path = \"data/partition/\""
   ]
  },
  {
   "cell_type": "code",
   "execution_count": 4,
   "metadata": {},
   "outputs": [],
   "source": [
    "train = pd.read_csv(partition_path + \"train.tsv\", sep=\"\\t\", names=[\"is_duplicate\", \"q1\", \"q2\", \"original_id\"])\n",
    "dev = pd.read_csv(partition_path + \"dev.tsv\", sep=\"\\t\", names=[\"is_duplicate\", \"q1\", \"q2\", \"original_id\"])\n",
    "test = pd.read_csv(partition_path + \"test.tsv\", sep=\"\\t\", names=[\"is_duplicate\", \"q1\", \"q2\", \"original_id\"])"
   ]
  },
  {
   "cell_type": "code",
   "execution_count": 5,
   "metadata": {},
   "outputs": [],
   "source": [
    "full = pd.read_csv(full_path, sep=\"\\t\")"
   ]
  },
  {
   "cell_type": "code",
   "execution_count": 6,
   "metadata": {},
   "outputs": [],
   "source": [
    "train_ids = np.array(train[\"original_id\"])\n",
    "dev_ids = np.array(dev[\"original_id\"])\n",
    "test_ids = np.array(test[\"original_id\"])"
   ]
  },
  {
   "cell_type": "code",
   "execution_count": 7,
   "metadata": {},
   "outputs": [
    {
     "data": {
      "text/plain": [
       "404348"
      ]
     },
     "execution_count": 7,
     "metadata": {},
     "output_type": "execute_result"
    }
   ],
   "source": [
    "len(train_ids) + len(dev_ids) + len(test_ids)"
   ]
  },
  {
   "cell_type": "code",
   "execution_count": 8,
   "metadata": {},
   "outputs": [
    {
     "data": {
      "text/plain": [
       "404290"
      ]
     },
     "execution_count": 8,
     "metadata": {},
     "output_type": "execute_result"
    }
   ],
   "source": [
    "len(full)"
   ]
  },
  {
   "cell_type": "code",
   "execution_count": 9,
   "metadata": {},
   "outputs": [
    {
     "data": {
      "text/plain": [
       "404287"
      ]
     },
     "execution_count": 9,
     "metadata": {},
     "output_type": "execute_result"
    }
   ],
   "source": [
    "len(full[full[\"id\"].isin(train_ids)])+len(full[full[\"id\"].isin(dev_ids)])+len(full[full[\"id\"].isin(test_ids)])"
   ]
  },
  {
   "cell_type": "code",
   "execution_count": 10,
   "metadata": {},
   "outputs": [
    {
     "name": "stdout",
     "output_type": "stream",
     "text": [
      "nan\n",
      "nan\n"
     ]
    }
   ],
   "source": [
    "for q in full[full[\"id\"].isin(train_ids)][\"question1\"]:\n",
    "    if not type(q) == str:\n",
    "        print(q)\n",
    "        \n",
    "for q in full[full[\"id\"].isin(test_ids)][\"question1\"]:\n",
    "    if not type(q) == str:\n",
    "        print(q)\n",
    "        \n",
    "for q in full[full[\"id\"].isin(dev_ids)][\"question1\"]:\n",
    "    if not type(q) == str:\n",
    "        print(q)\n",
    "        \n",
    "for q in full[full[\"id\"].isin(train_ids)][\"question2\"]:\n",
    "    if not type(q) == str:\n",
    "        print(q)\n",
    "        \n",
    "for q in full[full[\"id\"].isin(test_ids)][\"question2\"]:\n",
    "    if not type(q) == str:\n",
    "        print(q)\n",
    "        \n",
    "for q in full[full[\"id\"].isin(dev_ids)][\"question2\"]:\n",
    "    if not type(q) == str:\n",
    "        print(q)"
   ]
  },
  {
   "cell_type": "code",
   "execution_count": 11,
   "metadata": {},
   "outputs": [],
   "source": [
    "df_train = full[full[\"id\"].isin(train_ids)]\n",
    "df_test = full[full[\"id\"].isin(dev_ids)]\n",
    "df_dev = full[full[\"id\"].isin(test_ids)]"
   ]
  },
  {
   "cell_type": "code",
   "execution_count": 12,
   "metadata": {},
   "outputs": [
    {
     "name": "stdout",
     "output_type": "stream",
     "text": [
      "9999\n",
      "9999\n",
      "384289\n"
     ]
    }
   ],
   "source": [
    "print(len(df_test))\n",
    "print(len(df_dev))\n",
    "print(len(df_train))"
   ]
  },
  {
   "cell_type": "code",
   "execution_count": 13,
   "metadata": {},
   "outputs": [
    {
     "name": "stdout",
     "output_type": "stream",
     "text": [
      "3752\n"
     ]
    }
   ],
   "source": [
    "print(df_test[\"is_duplicate\"].sum())"
   ]
  },
  {
   "cell_type": "code",
   "execution_count": 14,
   "metadata": {},
   "outputs": [
    {
     "name": "stdout",
     "output_type": "stream",
     "text": [
      "3784\n"
     ]
    }
   ],
   "source": [
    "print(df_dev[\"is_duplicate\"].sum())"
   ]
  },
  {
   "cell_type": "code",
   "execution_count": 15,
   "metadata": {},
   "outputs": [
    {
     "name": "stdout",
     "output_type": "stream",
     "text": [
      "0.37523752375237523\n",
      "0.3688005641587451\n"
     ]
    }
   ],
   "source": [
    "print(3752/9999)\n",
    "print(df_train[\"is_duplicate\"].sum()/len(df_train))"
   ]
  },
  {
   "cell_type": "code",
   "execution_count": 17,
   "metadata": {},
   "outputs": [],
   "source": [
    "df_train.to_csv(partition_path + \"original_split/train.csv\", index_label=False)\n",
    "df_dev.to_csv(partition_path + \"original_split/dev.csv\", index_label=False)\n",
    "df_test.to_csv(partition_path + \"original_split/test.csv\", index_label=False)"
   ]
  }
 ],
 "metadata": {
  "kernelspec": {
   "display_name": "Python 3",
   "language": "python",
   "name": "python3"
  },
  "language_info": {
   "codemirror_mode": {
    "name": "ipython",
    "version": 3
   },
   "file_extension": ".py",
   "mimetype": "text/x-python",
   "name": "python",
   "nbconvert_exporter": "python",
   "pygments_lexer": "ipython3",
   "version": "3.6.1"
  }
 },
 "nbformat": 4,
 "nbformat_minor": 2
}
